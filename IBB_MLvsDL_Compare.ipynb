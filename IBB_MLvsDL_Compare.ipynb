{
  "cells": [
    {
      "cell_type": "code",
      "source": [
        "# Makine öğrenmesi, derin öğrenme ve veri analizi için temel kütüphaneler\n",
        "import numpy as np\n",
        "import pandas as pd\n",
        "import matplotlib.pyplot as plt\n",
        "import seaborn as sns\n",
        "\n",
        "# Makine öğrenmesi modelleri ve metrikleri\n",
        "from sklearn.model_selection import train_test_split\n",
        "from sklearn.preprocessing import LabelEncoder, StandardScaler\n",
        "from sklearn.metrics import accuracy_score, precision_score, recall_score, f1_score, confusion_matrix, roc_auc_score, roc_curve\n",
        "\n",
        "from sklearn.ensemble import RandomForestClassifier\n",
        "\n",
        "# Derin öğrenme için\n",
        "import tensorflow as tf\n",
        "from tensorflow.keras.models import Sequential\n",
        "from tensorflow.keras.layers import Dense, Dropout\n",
        "\n",
        "# Uyarıları kapatmak için (isteğe bağlı)\n",
        "import warnings\n",
        "warnings.filterwarnings('ignore')\n",
        "\n",
        "print(\"Tüm kütüphaneler başarıyla yüklendi!\")\n"
      ],
      "metadata": {
        "id": "wvcxiEPSaTmD"
      },
      "execution_count": null,
      "outputs": []
    },
    {
      "cell_type": "code",
      "source": [
        "import pandas as pd\n",
        "\n",
        "df = pd.read_csv(\"rayl-sistemler-istasyon-bazl-yolcu-ve-yolculuk-saylar-2024.csv\")\n",
        "print(df.head())\n",
        "print(df.info())\n"
      ],
      "metadata": {
        "id": "pZG4O005aU6h"
      },
      "execution_count": null,
      "outputs": []
    },
    {
      "cell_type": "code",
      "source": [
        "# 1. Gereksiz sütun var mı kontrol et\n",
        "print(df.columns)\n",
        "\n",
        "# 2. Eksik veri kontrolü\n",
        "print(df.isnull().sum())\n",
        "\n",
        "# 3. Kategorik değişkenleri LabelEncoder ile sayısala çevir (line, station_name, station_number, town)\n",
        "categorical_cols = ['line', 'station_name', 'station_number', 'town']\n",
        "le_dict = {}\n",
        "for col in categorical_cols:\n",
        "    le = LabelEncoder()\n",
        "    df[col] = le.fit_transform(df[col].astype(str))\n",
        "    le_dict[col] = le\n",
        "\n",
        "# 4. Gerekirse longitude ve latitude bırakılabilir (modelde etkili olabilir)\n",
        "# 5. Hedef değişkeni (busy_station) oluştur: ortalamanın %70'i üstü YOĞUN (1), aksi halde AZ YOĞUN (0)\n",
        "threshold = df['passanger_cnt'].mean() * 0.7\n",
        "df['busy_station'] = (df['passanger_cnt'] > threshold).astype(int)\n",
        "\n",
        "print(df[['passanger_cnt', 'busy_station']].head(10))\n",
        "print(df['busy_station'].value_counts())\n"
      ],
      "metadata": {
        "id": "AI32X0rUaWRf"
      },
      "execution_count": null,
      "outputs": []
    },
    {
      "cell_type": "code",
      "source": [
        "# Özellik sütunları (hedef ve kimlik sütunları hariç)\n",
        "features = ['transaction_year', 'transaction_month', 'line', 'station_name',\n",
        "            'station_number', 'town', 'longitude', 'latitude', 'passage_cnt']\n",
        "\n",
        "X = df[features]\n",
        "y = df['busy_station']\n",
        "\n",
        "# Sayısal verileri standartlaştır (özellikle DL için önemli)\n",
        "scaler = StandardScaler()\n",
        "X_scaled = scaler.fit_transform(X)\n",
        "\n",
        "# Eğitim ve test verisine ayır (test_size=0.2 yani %20 test, %80 eğitim)\n",
        "X_train, X_test, y_train, y_test = train_test_split(\n",
        "    X_scaled, y, test_size=0.2, random_state=42, stratify=y\n",
        ")\n",
        "\n",
        "print(\"X_train shape:\", X_train.shape)\n",
        "print(\"X_test shape:\", X_test.shape)\n"
      ],
      "metadata": {
        "id": "LLjLWSGLaXMv"
      },
      "execution_count": null,
      "outputs": []
    },
    {
      "cell_type": "code",
      "source": [
        "# Random Forest Classifier ile model kur, eğit ve test et\n",
        "rf_model = RandomForestClassifier(n_estimators=100, random_state=42)\n",
        "rf_model.fit(X_train, y_train)\n",
        "\n",
        "# Tahminleri al\n",
        "y_pred_rf = rf_model.predict(X_test)\n",
        "y_proba_rf = rf_model.predict_proba(X_test)[:, 1]  # ROC-AUC için\n",
        "\n",
        "# Skorları hesapla\n",
        "rf_acc = accuracy_score(y_test, y_pred_rf)\n",
        "rf_prec = precision_score(y_test, y_pred_rf)\n",
        "rf_rec = recall_score(y_test, y_pred_rf)\n",
        "rf_f1 = f1_score(y_test, y_pred_rf)\n",
        "rf_auc = roc_auc_score(y_test, y_proba_rf)\n",
        "\n",
        "print(\"Random Forest Scores:\")\n",
        "print(f\"Accuracy: {rf_acc:.3f}\")\n",
        "print(f\"Precision: {rf_prec:.3f}\")\n",
        "print(f\"Recall: {rf_rec:.3f}\")\n",
        "print(f\"F1 Score: {rf_f1:.3f}\")\n",
        "print(f\"ROC-AUC: {rf_auc:.3f}\")\n"
      ],
      "metadata": {
        "id": "t54UY3cCaqHH"
      },
      "execution_count": null,
      "outputs": []
    },
    {
      "cell_type": "code",
      "source": [
        "# Eksik değerleri ortalama ile doldur\n",
        "from sklearn.impute import SimpleImputer\n",
        "\n",
        "imputer = SimpleImputer(strategy='mean')\n",
        "X = imputer.fit_transform(X)   # Bu X'i standartize etmek için scale edeceğiz\n",
        "\n",
        "# Tekrar bölüyoruz (çünkü X bir numpy array oldu)\n",
        "X_train, X_test, y_train, y_test = train_test_split(\n",
        "    X, y, test_size=0.2, random_state=42, stratify=y\n",
        ")\n",
        "\n",
        "# Şimdi scale et\n",
        "scaler = StandardScaler()\n",
        "X_train = scaler.fit_transform(X_train)\n",
        "X_test = scaler.transform(X_test)\n",
        "\n",
        "\n",
        "from sklearn.linear_model import LogisticRegression\n",
        "\n",
        "logreg_model = LogisticRegression(max_iter=1000, random_state=42)\n",
        "logreg_model.fit(X_train, y_train)\n",
        "\n",
        "y_pred_lr = logreg_model.predict(X_test)\n",
        "y_proba_lr = logreg_model.predict_proba(X_test)[:, 1]\n",
        "\n",
        "lr_acc = accuracy_score(y_test, y_pred_lr)\n",
        "lr_prec = precision_score(y_test, y_pred_lr)\n",
        "lr_rec = recall_score(y_test, y_pred_lr)\n",
        "lr_f1 = f1_score(y_test, y_pred_lr)\n",
        "lr_auc = roc_auc_score(y_test, y_proba_lr)\n",
        "\n",
        "print(\"Logistic Regression Scores:\")\n",
        "print(f\"Accuracy: {lr_acc:.3f}\")\n",
        "print(f\"Precision: {lr_prec:.3f}\")\n",
        "print(f\"Recall: {lr_rec:.3f}\")\n",
        "print(f\"F1 Score: {lr_f1:.3f}\")\n",
        "print(f\"ROC-AUC: {lr_auc:.3f}\")\n"
      ],
      "metadata": {
        "id": "IIwvbNQ6a4TB"
      },
      "execution_count": null,
      "outputs": []
    },
    {
      "cell_type": "code",
      "source": [
        "!pip install xgboost\n",
        "\n",
        "from xgboost import XGBClassifier\n",
        "\n",
        "xgb_model = XGBClassifier(n_estimators=100, learning_rate=0.1, max_depth=5, random_state=42, use_label_encoder=False, eval_metric='logloss')\n",
        "xgb_model.fit(X_train, y_train)\n",
        "\n",
        "y_pred_xgb = xgb_model.predict(X_test)\n",
        "y_proba_xgb = xgb_model.predict_proba(X_test)[:, 1]\n",
        "\n",
        "xgb_acc = accuracy_score(y_test, y_pred_xgb)\n",
        "xgb_prec = precision_score(y_test, y_pred_xgb)\n",
        "xgb_rec = recall_score(y_test, y_pred_xgb)\n",
        "xgb_f1 = f1_score(y_test, y_pred_xgb)\n",
        "xgb_auc = roc_auc_score(y_test, y_proba_xgb)\n",
        "\n",
        "print(\"XGBoost Scores:\")\n",
        "print(f\"Accuracy: {xgb_acc:.3f}\")\n",
        "print(f\"Precision: {xgb_prec:.3f}\")\n",
        "print(f\"Recall: {xgb_rec:.3f}\")\n",
        "print(f\"F1 Score: {xgb_f1:.3f}\")\n",
        "print(f\"ROC-AUC: {xgb_auc:.3f}\")\n"
      ],
      "metadata": {
        "id": "UedsPHIVa73J"
      },
      "execution_count": null,
      "outputs": []
    },
    {
      "cell_type": "code",
      "source": [
        "import pandas as pd\n",
        "\n",
        "# Tüm skorları bir tabloya topla\n",
        "results = {\n",
        "    \"Model\": [\"Random Forest\", \"Logistic Regression\", \"XGBoost\"],\n",
        "    \"Accuracy\": [rf_acc, lr_acc, xgb_acc],\n",
        "    \"Precision\": [rf_prec, lr_prec, xgb_prec],\n",
        "    \"Recall\": [rf_rec, lr_rec, xgb_rec],\n",
        "    \"F1 Score\": [rf_f1, lr_f1, xgb_f1],\n",
        "    \"ROC-AUC\": [rf_auc, lr_auc, xgb_auc]\n",
        "}\n",
        "\n",
        "results_df = pd.DataFrame(results)\n",
        "print(\"Model Karşılaştırma Tablosu:\\n\")\n",
        "print(results_df)\n"
      ],
      "metadata": {
        "id": "tj7x3HplbTZJ"
      },
      "execution_count": null,
      "outputs": []
    },
    {
      "cell_type": "code",
      "source": [
        "plt.figure(figsize=(8, 6))\n",
        "\n",
        "# Random Forest\n",
        "fpr_rf, tpr_rf, _ = roc_curve(y_test, y_proba_rf)\n",
        "plt.plot(fpr_rf, tpr_rf, label=f'Random Forest (AUC = {rf_auc:.2f})')\n",
        "\n",
        "# Logistic Regression\n",
        "fpr_lr, tpr_lr, _ = roc_curve(y_test, y_proba_lr)\n",
        "plt.plot(fpr_lr, tpr_lr, label=f'Logistic Regression (AUC = {lr_auc:.2f})')\n",
        "\n",
        "# XGBoost\n",
        "fpr_xgb, tpr_xgb, _ = roc_curve(y_test, y_proba_xgb)\n",
        "plt.plot(fpr_xgb, tpr_xgb, label=f'XGBoost (AUC = {xgb_auc:.2f})')\n",
        "\n",
        "plt.plot([0, 1], [0, 1], 'k--', label='Random Guess')\n",
        "plt.xlabel('False Positive Rate')\n",
        "plt.ylabel('True Positive Rate')\n",
        "plt.title('ROC Curve Karşılaştırması')\n",
        "plt.legend(loc='lower right')\n",
        "plt.grid()\n",
        "plt.show()\n"
      ],
      "metadata": {
        "id": "1BsJ4sJGbUpO"
      },
      "execution_count": null,
      "outputs": []
    },
    {
      "cell_type": "code",
      "source": [
        "from sklearn.metrics import confusion_matrix\n",
        "\n",
        "model_names = ['Random Forest', 'Logistic Regression', 'XGBoost']\n",
        "y_preds = [y_pred_rf, y_pred_lr, y_pred_xgb]\n",
        "\n",
        "for name, y_pred in zip(model_names, y_preds):\n",
        "    cm = confusion_matrix(y_test, y_pred)\n",
        "    plt.figure(figsize=(4,3))\n",
        "    sns.heatmap(cm, annot=True, fmt=\"d\", cmap=\"Blues\")\n",
        "    plt.title(f\"{name} - Confusion Matrix\")\n",
        "    plt.xlabel(\"Tahmin\")\n",
        "    plt.ylabel(\"Gerçek\")\n",
        "    plt.show()\n"
      ],
      "metadata": {
        "id": "1SQosv-PbV8Z"
      },
      "execution_count": null,
      "outputs": []
    },
    {
      "cell_type": "code",
      "source": [
        "import matplotlib.pyplot as plt\n",
        "import seaborn as sns\n",
        "\n",
        "metrics = [\"Accuracy\", \"Precision\", \"Recall\", \"F1 Score\", \"ROC-AUC\"]\n",
        "palette = sns.color_palette(\"mako\", len(results_df))  # Güzel bir renk paleti\n",
        "\n",
        "plt.figure(figsize=(18, 4))\n",
        "\n",
        "for idx, metric in enumerate(metrics):\n",
        "    plt.subplot(1, len(metrics), idx+1)\n",
        "    ax = sns.barplot(\n",
        "        x=\"Model\",\n",
        "        y=metric,\n",
        "        data=results_df,\n",
        "        palette=palette,\n",
        "        edgecolor=\"black\",\n",
        "        linewidth=2\n",
        "    )\n",
        "    plt.title(metric, fontsize=15, fontweight='bold')\n",
        "    plt.ylim(0, 1)\n",
        "    plt.xlabel(\"\")\n",
        "    plt.ylabel(\"\")\n",
        "    plt.xticks(rotation=20, fontsize=11)\n",
        "    # Barların üstüne değer etiketi ekle\n",
        "    for p in ax.patches:\n",
        "        ax.annotate(\n",
        "            f\"{p.get_height():.2f}\",\n",
        "            (p.get_x() + p.get_width() / 2, p.get_height()),\n",
        "            ha='center',\n",
        "            va='bottom',\n",
        "            fontsize=11,\n",
        "            fontweight='bold',\n",
        "            color='black'\n",
        "        )\n",
        "    # Kenarlık ve gridleri sadeleştir\n",
        "    ax.spines['top'].set_visible(False)\n",
        "    ax.spines['right'].set_visible(False)\n",
        "    ax.spines['left'].set_visible(False)\n",
        "    ax.spines['bottom'].set_linewidth(1.5)\n",
        "    ax.grid(axis='y', linestyle='--', linewidth=0.7, alpha=0.6)\n",
        "\n",
        "plt.tight_layout()\n",
        "plt.suptitle(\"Modellerin Karşılaştırmalı Performans Metrikleri\", y=1.07, fontsize=18, fontweight=\"bold\")\n",
        "plt.show()\n"
      ],
      "metadata": {
        "id": "yoHR_GNCbmTJ"
      },
      "execution_count": null,
      "outputs": []
    },
    {
      "cell_type": "code",
      "source": [
        "plt.figure(figsize=(6,4))\n",
        "sns.barplot(x=\"Model\", y=\"F1 Score\", data=results_df)\n",
        "plt.title(\"F1 Score Karşılaştırması\")\n",
        "plt.ylabel(\"F1 Score\")\n",
        "plt.ylim(0, 1)\n",
        "plt.show()\n"
      ],
      "metadata": {
        "id": "misqWJD7bpJs"
      },
      "execution_count": null,
      "outputs": []
    },
    {
      "cell_type": "code",
      "source": [
        "import tensorflow as tf\n",
        "from tensorflow.keras.models import Sequential\n",
        "from tensorflow.keras.layers import Dense, Dropout\n",
        "\n",
        "# Modeli kur\n",
        "dl_model = Sequential([\n",
        "    Dense(64, input_dim=X_train.shape[1], activation='relu'),\n",
        "    Dropout(0.3),\n",
        "    Dense(32, activation='relu'),\n",
        "    Dropout(0.2),\n",
        "    Dense(1, activation='sigmoid')\n",
        "])\n",
        "\n",
        "# Derleme\n",
        "dl_model.compile(\n",
        "    loss='binary_crossentropy',\n",
        "    optimizer='adam',\n",
        "    metrics=['accuracy', tf.keras.metrics.Precision(), tf.keras.metrics.Recall()]\n",
        ")\n",
        "\n",
        "# Eğitimi başlat\n",
        "history = dl_model.fit(\n",
        "    X_train, y_train,\n",
        "    validation_split=0.2,\n",
        "    epochs=30,\n",
        "    batch_size=32,\n",
        "    verbose=1\n",
        ")\n"
      ],
      "metadata": {
        "id": "NXrPqOtob06t"
      },
      "execution_count": null,
      "outputs": []
    },
    {
      "cell_type": "code",
      "source": [
        "# Test verisinde tahmin yap\n",
        "y_pred_dl_proba = dl_model.predict(X_test).flatten()\n",
        "y_pred_dl = (y_pred_dl_proba > 0.5).astype(int)\n",
        "\n",
        "# Metrikleri hesapla\n",
        "dl_acc = accuracy_score(y_test, y_pred_dl)\n",
        "dl_prec = precision_score(y_test, y_pred_dl)\n",
        "dl_rec = recall_score(y_test, y_pred_dl)\n",
        "dl_f1 = f1_score(y_test, y_pred_dl)\n",
        "dl_auc = roc_auc_score(y_test, y_pred_dl_proba)\n",
        "\n",
        "print(\"Dense Neural Network Scores:\")\n",
        "print(f\"Accuracy: {dl_acc:.3f}\")\n",
        "print(f\"Precision: {dl_prec:.3f}\")\n",
        "print(f\"Recall: {dl_rec:.3f}\")\n",
        "print(f\"F1 Score: {dl_f1:.3f}\")\n",
        "print(f\"ROC-AUC: {dl_auc:.3f}\")\n"
      ],
      "metadata": {
        "id": "us3xKv95b66_"
      },
      "execution_count": null,
      "outputs": []
    },
    {
      "cell_type": "code",
      "source": [
        "import pandas as pd\n",
        "\n",
        "# Eklenecek satırı DataFrame olarak oluştur\n",
        "new_row = pd.DataFrame([{\n",
        "    \"Model\": \"Dense Neural Network\",\n",
        "    \"Accuracy\": dl_acc,\n",
        "    \"Precision\": dl_prec,\n",
        "    \"Recall\": dl_rec,\n",
        "    \"F1 Score\": dl_f1,\n",
        "    \"ROC-AUC\": dl_auc\n",
        "}])\n",
        "\n",
        "# Sonra concat ile birleştir\n",
        "results_df = pd.concat([results_df, new_row], ignore_index=True)\n",
        "\n",
        "print(\"Tüm Modellerin Karşılaştırma Tablosu:\\n\")\n",
        "print(results_df)\n"
      ],
      "metadata": {
        "id": "w4ZE3FdNb8Hj"
      },
      "execution_count": null,
      "outputs": []
    },
    {
      "cell_type": "code",
      "source": [
        "import matplotlib.pyplot as plt\n",
        "\n",
        "# Model sütununu index yapalım\n",
        "results_plot = results_df.set_index(\"Model\")\n",
        "\n",
        "# Tüm metrikleri tek grafikte çizelim (her model için tüm metrikler)\n",
        "ax = results_plot.plot(kind=\"bar\", figsize=(12, 6))\n",
        "\n",
        "plt.title(\"Tüm Modellerin Karşılaştırmalı Performansı\")\n",
        "plt.ylabel(\"Skor\")\n",
        "plt.xlabel(\"Model\")\n",
        "plt.xticks(rotation=20)\n",
        "plt.legend(title=\"Metrik\", bbox_to_anchor=(1.05, 1), loc='upper left')\n",
        "plt.tight_layout()\n",
        "plt.show()\n"
      ],
      "metadata": {
        "id": "Bo1NJHbb2ihg"
      },
      "execution_count": null,
      "outputs": []
    },
    {
      "cell_type": "code",
      "source": [
        "fpr_dl, tpr_dl, _ = roc_curve(y_test, y_pred_dl_proba)\n",
        "plt.figure(figsize=(8,6))\n",
        "plt.plot(fpr_dl, tpr_dl, label=f'Dense Neural Network (AUC = {dl_auc:.2f})')\n",
        "plt.plot([0,1],[0,1],'k--')\n",
        "plt.xlabel(\"False Positive Rate\")\n",
        "plt.ylabel(\"True Positive Rate\")\n",
        "plt.title(\"ROC Curve - Dense Neural Network\")\n",
        "plt.legend()\n",
        "plt.show()\n"
      ],
      "metadata": {
        "id": "0gSVatiBb9DX"
      },
      "execution_count": null,
      "outputs": []
    },
    {
      "cell_type": "code",
      "source": [
        "cm_dl = confusion_matrix(y_test, y_pred_dl)\n",
        "plt.figure(figsize=(4,3))\n",
        "sns.heatmap(cm_dl, annot=True, fmt=\"d\", cmap=\"Blues\")\n",
        "plt.title(\"Dense Neural Network - Confusion Matrix\")\n",
        "plt.xlabel(\"Tahmin\")\n",
        "plt.ylabel(\"Gerçek\")\n",
        "plt.show()\n"
      ],
      "metadata": {
        "id": "z_pQrcaQb98I"
      },
      "execution_count": null,
      "outputs": []
    },
    {
      "cell_type": "code",
      "source": [
        "plt.figure(figsize=(12,4))\n",
        "plt.subplot(1,2,1)\n",
        "plt.plot(history.history['loss'], label='Train Loss')\n",
        "plt.plot(history.history['val_loss'], label='Val Loss')\n",
        "plt.title('Loss (Eğitim vs Validasyon)')\n",
        "plt.xlabel('Epoch')\n",
        "plt.ylabel('Loss')\n",
        "plt.legend()\n",
        "\n",
        "plt.subplot(1,2,2)\n",
        "plt.plot(history.history['accuracy'], label='Train Accuracy')\n",
        "plt.plot(history.history['val_accuracy'], label='Val Accuracy')\n",
        "plt.title('Accuracy (Eğitim vs Validasyon)')\n",
        "plt.xlabel('Epoch')\n",
        "plt.ylabel('Accuracy')\n",
        "plt.legend()\n",
        "plt.show()\n"
      ],
      "metadata": {
        "id": "V_Ta7Lj9b_Va"
      },
      "execution_count": null,
      "outputs": []
    },
    {
      "cell_type": "code",
      "source": [
        "plt.figure(figsize=(8,4))\n",
        "sns.kdeplot(df[\"passanger_cnt\"], fill=True)\n",
        "plt.title(\"passanger_cnt Yoğunluk Grafiği (KDE)\")\n",
        "plt.xlabel(\"passanger_cnt\")\n",
        "plt.show()\n"
      ],
      "metadata": {
        "id": "MWgVGPbnfOA6"
      },
      "execution_count": null,
      "outputs": []
    },
    {
      "cell_type": "code",
      "source": [
        "plt.figure(figsize=(12,4))\n",
        "sns.countplot(x=\"town\", data=df)\n",
        "plt.xticks(rotation=90)\n",
        "plt.title(\"İlçelere Göre Kayıt Sayısı\")\n",
        "plt.show()\n"
      ],
      "metadata": {
        "id": "MpNSNNidfQF9"
      },
      "execution_count": null,
      "outputs": []
    },
    {
      "cell_type": "code",
      "source": [
        "plt.figure(figsize=(8,6))\n",
        "sc = plt.scatter(df[\"longitude\"], df[\"latitude\"], c=df[\"passanger_cnt\"], cmap=\"hot\", alpha=0.6, s=60)\n",
        "plt.colorbar(sc, label=\"Yolcu Sayısı\")\n",
        "plt.title(\"İstanbul Raylı Sistem Yolcu Yoğunluğu (Coğrafi Harita)\")\n",
        "plt.xlabel(\"Boylam\")\n",
        "plt.ylabel(\"Enlem\")\n",
        "plt.show()\n"
      ],
      "metadata": {
        "id": "g2rdXvKzfcyO"
      },
      "execution_count": null,
      "outputs": []
    },
    {
      "cell_type": "code",
      "source": [
        "import seaborn as sns\n",
        "import matplotlib.pyplot as plt\n",
        "plt.figure(figsize=(10,7))\n",
        "sns.heatmap(df.corr(numeric_only=True), annot=True, cmap='coolwarm')\n",
        "plt.title(\"Korelasyon Isı Haritası\")\n",
        "plt.show()\n",
        "\n"
      ],
      "metadata": {
        "id": "Oy2k2g9ifhDq"
      },
      "execution_count": null,
      "outputs": []
    },
    {
      "cell_type": "code",
      "source": [
        "import plotly.express as px\n",
        "\n",
        "# 1. Hiyerarşik grafikte kullanılacak tüm kategorik sütunlarda NaN varsa at:\n",
        "df_sun = df.dropna(subset=['line', 'town', 'station_name', 'passanger_cnt'])\n",
        "\n",
        "# 2. Sunburst (Hat → İlçe → İstasyon)\n",
        "fig = px.sunburst(\n",
        "    df_sun,\n",
        "    path=['line', 'town', 'station_name'],\n",
        "    values='passanger_cnt',\n",
        "    title='Hat → İlçe → İstasyonlara Göre Yolcu Payı'\n",
        ")\n",
        "fig.show()\n",
        "\n",
        "# 3. Treemap (Hat → İstasyon)\n",
        "fig2 = px.treemap(\n",
        "    df_sun,\n",
        "    path=['line', 'station_name'],\n",
        "    values='passanger_cnt',\n",
        "    title='Hat ve İstasyonlara Göre Yolcu Payı'\n",
        ")\n",
        "fig2.show()\n"
      ],
      "metadata": {
        "id": "ZNjC8a8MfjHw"
      },
      "execution_count": null,
      "outputs": []
    },
    {
      "cell_type": "code",
      "source": [
        "import seaborn as sns\n",
        "plt.figure(figsize=(8,6))\n",
        "sns.violinplot(x=\"town\", y=\"passanger_cnt\", data=df)\n",
        "plt.xticks(rotation=90)\n",
        "plt.title(\"İlçelere Göre Yolcu Sayısı Dağılımı (Violinplot)\")\n",
        "plt.show()\n"
      ],
      "metadata": {
        "id": "89RixM9VfldF"
      },
      "execution_count": null,
      "outputs": []
    },
    {
      "cell_type": "code",
      "source": [
        "top_stations = df.groupby(\"station_name\")[\"passanger_cnt\"].sum().sort_values(ascending=False).head(10)\n",
        "top_stations.plot(kind='barh', figsize=(8,5), color='teal')\n",
        "plt.title(\"En Çok Yolcu Taşıyan 10 İstasyon\")\n",
        "plt.xlabel(\"Toplam Yolcu Sayısı\")\n",
        "plt.gca().invert_yaxis()\n",
        "plt.tight_layout()\n",
        "plt.show()\n"
      ],
      "metadata": {
        "id": "g1AzxAOefpP9"
      },
      "execution_count": null,
      "outputs": []
    },
    {
      "cell_type": "code",
      "source": [
        "town_stats = df.groupby(\"town\")[\"passanger_cnt\"].agg([\"sum\", \"mean\"]).sort_values(\"sum\", ascending=False)\n",
        "town_stats[\"sum\"].plot(kind='bar', figsize=(10,5), color='orange')\n",
        "plt.title(\"İlçelere Göre Toplam Yolcu Sayısı\")\n",
        "plt.ylabel(\"Yolcu\")\n",
        "plt.tight_layout()\n",
        "plt.show()\n",
        "\n",
        "town_stats[\"mean\"].plot(kind='bar', figsize=(10,5), color='navy')\n",
        "plt.title(\"İlçelere Göre Ortalama Yolcu Sayısı\")\n",
        "plt.ylabel(\"Ortalama Yolcu\")\n",
        "plt.tight_layout()\n",
        "plt.show()\n"
      ],
      "metadata": {
        "id": "hzhisWpHfrq1"
      },
      "execution_count": null,
      "outputs": []
    },
    {
      "cell_type": "code",
      "source": [
        "pivot = pd.pivot_table(df, values='passanger_cnt', index='line', columns='town', aggfunc='sum', fill_value=0)\n",
        "plt.figure(figsize=(14,8))\n",
        "sns.heatmap(pivot, annot=False, cmap='YlGnBu')\n",
        "plt.title(\"Hat ve İlçelere Göre Toplam Yolcu (Heatmap)\")\n",
        "plt.xlabel(\"İlçe\")\n",
        "plt.ylabel(\"Hat\")\n",
        "plt.tight_layout()\n",
        "plt.show()\n"
      ],
      "metadata": {
        "id": "9fPWVteFfyod"
      },
      "execution_count": null,
      "outputs": []
    }
  ],
  "metadata": {
    "colab": {
      "provenance": []
    },
    "kernelspec": {
      "display_name": "Python 3",
      "name": "python3"
    }
  },
  "nbformat": 4,
  "nbformat_minor": 0
}